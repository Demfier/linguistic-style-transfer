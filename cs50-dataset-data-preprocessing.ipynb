{
 "cells": [
  {
   "cell_type": "code",
   "execution_count": null,
   "metadata": {
    "collapsed": true
   },
   "outputs": [],
   "source": [
    "import os\n",
    "import re\n",
    "import json"
   ]
  },
  {
   "cell_type": "code",
   "execution_count": null,
   "metadata": {
    "collapsed": true
   },
   "outputs": [],
   "source": [
    "data_folder = \"data/training-set\"\n",
    "cleaned_data_file_path = \"data/cs50-article-data.txt\""
   ]
  },
  {
   "cell_type": "code",
   "execution_count": null,
   "metadata": {
    "collapsed": true
   },
   "outputs": [],
   "source": [
    "def clean_text(string):  \n",
    "    \n",
    "    string = re.sub(r\"\\\\n\", \" \", string)\n",
    "    string = re.sub(r\"\\'m\", \" am\", string)\n",
    "    string = re.sub(r\"\\'ve\", \" have\", string)\n",
    "    string = re.sub(r\"n\\'t\", \" not\", string)\n",
    "    string = re.sub(r\"\\'re\", \" are\", string)\n",
    "    string = re.sub(r\"\\'d\", \" would\", string)\n",
    "    string = re.sub(r\"\\'ll\", \" will\", string)\n",
    "    string = string.replace(\"\\r\", \" \")\n",
    "    string = string.replace(\"\\n\", \" \")\n",
    "    string = string.strip().lower()\n",
    "\n",
    "    return string"
   ]
  },
  {
   "cell_type": "code",
   "execution_count": null,
   "metadata": {},
   "outputs": [],
   "source": [
    "authors = os.listdir(data_folder)\n",
    "print(authors)"
   ]
  },
  {
   "cell_type": "code",
   "execution_count": null,
   "metadata": {},
   "outputs": [],
   "source": [
    "article_list = list()\n",
    "author_labels = list()\n",
    "\n",
    "with open(cleaned_data_file_path, 'a+') as cleaned_data_file:\n",
    "    for author in authors:\n",
    "        author_directory = data_folder + \"/\" + author\n",
    "        files = os.listdir(author_directory)\n",
    "\n",
    "        for filepath in map(lambda x: author_directory + \"/\" + x,files):\n",
    "            if filepath[-4:] == \".txt\":\n",
    "                with open(filepath, 'r') as file:\n",
    "                    article = clean_text(file.read())\n",
    "                    article_dict = {\"article\": article, \"author\": author}\n",
    "                    cleaned_data_file.write(json.dumps(article_dict) + \"\\n\")"
   ]
  },
  {
   "cell_type": "code",
   "execution_count": null,
   "metadata": {
    "collapsed": true
   },
   "outputs": [],
   "source": []
  }
 ],
 "metadata": {
  "kernelspec": {
   "display_name": ".pyenv",
   "language": "python",
   "name": ".pyenv"
  },
  "language_info": {
   "codemirror_mode": {
    "name": "ipython",
    "version": 3
   },
   "file_extension": ".py",
   "mimetype": "text/x-python",
   "name": "python",
   "nbconvert_exporter": "python",
   "pygments_lexer": "ipython3",
   "version": "3.6.4"
  }
 },
 "nbformat": 4,
 "nbformat_minor": 2
}
