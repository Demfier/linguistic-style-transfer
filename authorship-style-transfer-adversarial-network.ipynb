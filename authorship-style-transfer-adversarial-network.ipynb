{
 "cells": [
  {
   "cell_type": "markdown",
   "metadata": {},
   "source": [
    "# Authorship Style Transfer"
   ]
  },
  {
   "cell_type": "code",
   "execution_count": null,
   "metadata": {},
   "outputs": [],
   "source": [
    "import numpy as np\n",
    "import tensorflow as tf\n",
    "import gensim\n",
    "\n",
    "from datetime import datetime as dt\n",
    "from IPython.display import display, HTML"
   ]
  },
  {
   "cell_type": "code",
   "execution_count": null,
   "metadata": {
    "collapsed": true
   },
   "outputs": [],
   "source": [
    "def browser_alert(message):\n",
    "    display(HTML(\n",
    "        '<script type=\"text/javascript\">alert(\"' + message + '\");</script>'))\n",
    "    \n",
    "def browser_notify(message):\n",
    "    display(HTML(\n",
    "        '<script type=\"text/javascript\">var notification=new Notification(\"\\\n",
    "         Jupyter Notification\",{icon:\"http://blog.jupyter.org/content/images\\\n",
    "         /2015/02/jupyter-sq-text.png\",body:\"' + message + '\"});</script>'))"
   ]
  },
  {
   "cell_type": "markdown",
   "metadata": {},
   "source": [
    "---"
   ]
  },
  {
   "cell_type": "markdown",
   "metadata": {},
   "source": [
    "## Data Preprocessing"
   ]
  },
  {
   "cell_type": "code",
   "execution_count": null,
   "metadata": {
    "collapsed": true
   },
   "outputs": [],
   "source": [
    "text_file_path = \"data/c50-articles.txt\"\n",
    "label_file_path = \"data/c50-labels.txt\""
   ]
  },
  {
   "cell_type": "markdown",
   "metadata": {},
   "source": [
    "### Conversion of texts into integer sequences"
   ]
  },
  {
   "cell_type": "code",
   "execution_count": null,
   "metadata": {
    "collapsed": true
   },
   "outputs": [],
   "source": [
    "VOCAB_SIZE = 1000\n",
    "EMBEDDING_SIZE = 300"
   ]
  },
  {
   "cell_type": "code",
   "execution_count": null,
   "metadata": {},
   "outputs": [],
   "source": [
    "text_tokenizer = tf.keras.preprocessing.text.Tokenizer(\n",
    "    num_words=VOCAB_SIZE, filters='!\"#$%&()*+,-./:;=?@[\\\\]^_`{|}~\\t\\n')\n",
    "\n",
    "with open(text_file_path) as text_file:\n",
    "    text_tokenizer.fit_on_texts(text_file)\n",
    "    \n",
    "with open(text_file_path) as text_file:\n",
    "    integer_text_sequences = text_tokenizer.texts_to_sequences(text_file)\n",
    "\n",
    "text_sequence_lengths = np.asarray(\n",
    "    a=list(map(lambda x: len(x), integer_text_sequences)), dtype=np.int32)\n",
    "\n",
    "MAX_SEQUENCE_LENGTH = np.amax(text_sequence_lengths)\n",
    "\n",
    "padded_sequences = tf.keras.preprocessing.sequence.pad_sequences(\n",
    "     integer_text_sequences, maxlen=MAX_SEQUENCE_LENGTH, padding='post', truncating='post')\n",
    "\n",
    "print(\"text_sequence_lengths: {}\".format(text_sequence_lengths.shape))\n",
    "print(\"padded_sequences.shape: {}\".format(padded_sequences.shape))"
   ]
  },
  {
   "cell_type": "code",
   "execution_count": null,
   "metadata": {},
   "outputs": [],
   "source": [
    "print(\"MAX_SEQUENCE_LENGTH: {}\".format(MAX_SEQUENCE_LENGTH))"
   ]
  },
  {
   "cell_type": "code",
   "execution_count": null,
   "metadata": {
    "collapsed": true
   },
   "outputs": [],
   "source": [
    "SOS_INDEX = text_tokenizer.word_index['<sos>']\n",
    "EOS_INDEX = text_tokenizer.word_index['<eos>']\n",
    "DATA_SIZE = padded_sequences.shape[0]"
   ]
  },
  {
   "cell_type": "code",
   "execution_count": null,
   "metadata": {},
   "outputs": [],
   "source": [
    "text_tokenizer.word_index"
   ]
  },
  {
   "cell_type": "markdown",
   "metadata": {},
   "source": [
    "### Conversion of labels to one-hot represenations"
   ]
  },
  {
   "cell_type": "code",
   "execution_count": null,
   "metadata": {},
   "outputs": [],
   "source": [
    "label_tokenizer =  tf.keras.preprocessing.text.Tokenizer(lower=False)\n",
    "\n",
    "with open(label_file_path) as label_file:\n",
    "    label_tokenizer.fit_on_texts(label_file)\n",
    "\n",
    "with open(label_file_path) as label_file:\n",
    "    label_sequences = label_tokenizer.texts_to_sequences(label_file)\n",
    "\n",
    "NUM_LABELS = len(label_tokenizer.word_index)\n",
    "one_hot_labels = np.asarray(list(\n",
    "    map(lambda x: np.eye(NUM_LABELS, k=x[0])[0], label_sequences)))\n",
    "\n",
    "print(\"one_hot_labels.shape: {}\".format(one_hot_labels.shape))"
   ]
  },
  {
   "cell_type": "markdown",
   "metadata": {},
   "source": [
    "### Initializing Pre-trained Embeddings"
   ]
  },
  {
   "cell_type": "code",
   "execution_count": null,
   "metadata": {
    "collapsed": true
   },
   "outputs": [],
   "source": [
    "word_vector_path = \"word-embeddings/\""
   ]
  },
  {
   "cell_type": "code",
   "execution_count": null,
   "metadata": {},
   "outputs": [],
   "source": [
    "# Google news pretrained vectors\n",
    "wv_model_path = word_vector_path + \"GoogleNews-vectors-negative300.bin.gz\"\n",
    "wv_model_1 = gensim.models.KeyedVectors.load_word2vec_format(\n",
    "    wv_model_path, binary=True, unicode_errors='ignore')\n"
   ]
  },
  {
   "cell_type": "code",
   "execution_count": null,
   "metadata": {
    "collapsed": true
   },
   "outputs": [],
   "source": [
    "def get_word2vec_embedding(word, model, dimensions):\n",
    "\n",
    "    vec_rep = np.zeros(dimensions)\n",
    "    if word in model:\n",
    "        vec_rep = model[word]\n",
    "    \n",
    "    return vec_rep"
   ]
  },
  {
   "cell_type": "code",
   "execution_count": null,
   "metadata": {
    "collapsed": true
   },
   "outputs": [],
   "source": [
    "pretrained_embedding_matrix = np.zeros((VOCAB_SIZE, EMBEDDING_SIZE), dtype=float)"
   ]
  },
  {
   "cell_type": "code",
   "execution_count": null,
   "metadata": {},
   "outputs": [],
   "source": [
    "i = 0\n",
    "for key in text_tokenizer.word_index:\n",
    "    pretrained_embedding_matrix[i] = get_word2vec_embedding(key, wv_model_1, 300)\n",
    "    i += 1\n",
    "    if i >= VOCAB_SIZE:\n",
    "        break\n",
    "    "
   ]
  },
  {
   "cell_type": "code",
   "execution_count": null,
   "metadata": {},
   "outputs": [],
   "source": [
    "pretrained_embedding_matrix.shape"
   ]
  },
  {
   "cell_type": "markdown",
   "metadata": {},
   "source": [
    "---"
   ]
  },
  {
   "cell_type": "markdown",
   "metadata": {},
   "source": [
    "## Deep Learning Model"
   ]
  },
  {
   "cell_type": "markdown",
   "metadata": {},
   "source": [
    "### Setup Instructions"
   ]
  },
  {
   "cell_type": "code",
   "execution_count": null,
   "metadata": {
    "collapsed": true
   },
   "outputs": [],
   "source": [
    "class GenerativeAdversarialNetwork():\n",
    "\n",
    "    def __init__(self):\n",
    "        self.style_embedding_size = 128\n",
    "        self.content_embedding_size = 128\n",
    "        self.batch_size = 200\n",
    "    \n",
    "    def get_sentence_representation(self, embedded_sequence):\n",
    "\n",
    "        lstm_cell_fw = tf.contrib.rnn.BasicLSTMCell(\n",
    "            num_units=128, name=\"lstm_cell_fw_content\")\n",
    "        lstm_cell_bw = tf.contrib.rnn.BasicLSTMCell(\n",
    "            num_units=128, name=\"lstm_cell_bw_content\")\n",
    "\n",
    "        _, rnn_states = tf.nn.bidirectional_dynamic_rnn(\n",
    "            cell_fw=lstm_cell_fw, cell_bw=lstm_cell_bw, \n",
    "            inputs=embedded_sequence, \n",
    "            dtype=tf.float32, time_major=False)\n",
    "        sentence_representation = tf.concat(\n",
    "            values=[rnn_states[0].h, rnn_states[1].h], axis=1, \n",
    "            name=\"sentence_representation\")\n",
    "\n",
    "        return sentence_representation\n",
    "\n",
    "    def get_content_representation(self, sentence_representation):\n",
    "        \n",
    "        dense_content = tf.layers.dense(\n",
    "            inputs=sentence_representation, units=self.content_embedding_size, \n",
    "            activation=tf.nn.relu, name=\"content_representation\")\n",
    "\n",
    "        return dense_content\n",
    "\n",
    "    def get_style_representation(self, sentence_representation):\n",
    "        \n",
    "        dense_style = tf.layers.dense(\n",
    "            inputs=sentence_representation, units=self.style_embedding_size, \n",
    "            activation=tf.nn.relu, name=\"style_representation\")\n",
    "        return dense_style\n",
    "\n",
    "    def get_label_prediction(self, content_representation):\n",
    "\n",
    "        dense_1 = tf.layers.dense(\n",
    "            inputs=content_representation, units=NUM_LABELS, \n",
    "            activation=tf.nn.relu, name=\"dense_1\")\n",
    "        \n",
    "        softmax_output = tf.nn.softmax(dense_1, name=\"label_prediction\")\n",
    "\n",
    "        return softmax_output\n",
    "    \n",
    "    def generate_output_sequence(self, embedded_sequence, style_representation, \n",
    "                                 content_representation):\n",
    "        \n",
    "        generative_embedding = tf.concat(\n",
    "            values=[style_representation, content_representation], axis=1)\n",
    "        print(\"generative_embedding: {}\".format(generative_embedding))\n",
    "        \n",
    "        decoder_cell = tf.nn.rnn_cell.BasicLSTMCell(\n",
    "            num_units=128, state_is_tuple=False)\n",
    "        \n",
    "        batch_sequence_lengths = tf.scalar_mul(\n",
    "            scalar=MAX_SEQUENCE_LENGTH, x=tf.ones([self.batch_size], dtype=tf.int32))\n",
    "        print(\"batch_sequence_lengths: {}\".format(batch_sequence_lengths))\n",
    "        \n",
    "        # Helper\n",
    "        training_helper = tf.contrib.seq2seq.TrainingHelper(\n",
    "            inputs=embedded_sequence, sequence_length=batch_sequence_lengths)\n",
    "\n",
    "        # Decoder\n",
    "        generative_decoder = tf.contrib.seq2seq.BasicDecoder(\n",
    "            cell=decoder_cell, helper=training_helper, \n",
    "            initial_state=generative_embedding,\n",
    "            output_layer=tf.layers.Dense(generative_embedding.shape[1], use_bias=False))\n",
    "        \n",
    "        # Dynamic decoding\n",
    "        final_decoder_output, _, _ = tf.contrib.seq2seq.dynamic_decode(\n",
    "            decoder=generative_decoder,\n",
    "            maximum_iterations=MAX_SEQUENCE_LENGTH)\n",
    "        print(\"final_decoder_output: {}\".format(final_decoder_output))\n",
    "        \n",
    "        dense_decoded = tf.layers.dense(\n",
    "            inputs=final_decoder_output.rnn_output, units=VOCAB_SIZE, \n",
    "            activation=tf.nn.relu, name=\"dense_decoded\")\n",
    "        print(\"dense_decoded: {}\".format(dense_decoded))\n",
    "        \n",
    "        softmax_prediction = tf.nn.softmax(logits=dense_decoded)\n",
    "\n",
    "        return softmax_prediction\n",
    "\n",
    "\n",
    "    def build_model(self):\n",
    "        \n",
    "        self.input_sequence = tf.placeholder(\n",
    "            dtype=tf.int32, shape=[self.batch_size, MAX_SEQUENCE_LENGTH], \n",
    "            name=\"input_sequence\")\n",
    "        print(\"input_sequence: {}\".format(self.input_sequence))\n",
    "\n",
    "        self.input_label = tf.placeholder(\n",
    "            dtype=tf.float32, shape=[self.batch_size, NUM_LABELS], \n",
    "            name=\"input_label\")\n",
    "        print(\"input_label: {}\".format(self.input_label))\n",
    "\n",
    "        # word embeddings matrix\n",
    "        word_embeddings = tf.get_variable(\n",
    "            shape=[VOCAB_SIZE, EMBEDDING_SIZE], dtype=tf.float32, \n",
    "            name=\"word_embeddings\")\n",
    "        \n",
    "        self.embedding_placeholder = tf.placeholder(\n",
    "            dtype=tf.float32, shape=[VOCAB_SIZE, EMBEDDING_SIZE],\n",
    "            name=\"embedding_placeholder\")\n",
    "        print(\"word_embeddings: {}\".format(word_embeddings))\n",
    "        \n",
    "        self.embedding_init = word_embeddings.assign(self.embedding_placeholder)\n",
    "        \n",
    "        embedded_sequence = tf.nn.embedding_lookup(\n",
    "            word_embeddings, self.input_sequence, name=\"embedded_sequence\")\n",
    "        print(\"embedded_sequence: {}\".format(embedded_sequence))\n",
    "\n",
    "        # get sentence representation\n",
    "        sentence_representation = self.get_sentence_representation(\n",
    "            embedded_sequence)\n",
    "        print(\"sentence_representation: {}\".format(sentence_representation))\n",
    "\n",
    "        # get content representation\n",
    "        content_representation = self.get_content_representation(\n",
    "            sentence_representation)\n",
    "        print(\"content_representation: {}\".format(content_representation))\n",
    "\n",
    "        # use content representation to predict a label\n",
    "        self.label_prediction = self.get_label_prediction(\n",
    "            content_representation)\n",
    "        print(\"label_prediction: {}\".format(self.label_prediction))\n",
    "\n",
    "        self.adversarial_loss = tf.losses.softmax_cross_entropy(\n",
    "            onehot_labels=self.input_label, logits=self.label_prediction)\n",
    "        print(\"adversarial_loss: {}\".format(self.adversarial_loss))\n",
    "\n",
    "        self.adversarial_loss_summary = tf.summary.scalar(\n",
    "            tensor=self.adversarial_loss, name=\"adversarial_loss\")\n",
    "\n",
    "        # get style representation\n",
    "        style_representation = self.get_style_representation(\n",
    "            sentence_representation)\n",
    "        print(\"style_representation: {}\".format(style_representation))\n",
    "        \n",
    "        # generate new sentence\n",
    "        self.generated_logits = self.generate_output_sequence(\n",
    "            embedded_sequence, style_representation, content_representation)\n",
    "        print(\"generated_logits: {}\".format(self.generated_logits))\n",
    "        \n",
    "        self.reconstruction_loss = tf.contrib.seq2seq.sequence_loss(\n",
    "            logits=self.generated_logits, targets=self.input_sequence, \n",
    "            weights=tf.ones(tf.shape(self.input_sequence)),\n",
    "            softmax_loss_funtion=tf.nn.softmax_cross_entropy_with_logits_v2)\n",
    "        print(\"reconstruction_loss: {}\".format(self.reconstruction_loss))\n",
    "\n",
    "        self.reconstruction_loss_summary = tf.summary.scalar(\n",
    "            tensor=self.reconstruction_loss, name=\"reconstruction_loss\")\n",
    "\n",
    "\n",
    "    def train(self, sess):\n",
    "\n",
    "        writer = tf.summary.FileWriter(\n",
    "            logdir=\"/tmp/tensorflow_logs/\" + dt.now().strftime(\"%Y%m%d-%H%M%S\") + \"/\", \n",
    "            graph=sess.graph)\n",
    "        \n",
    "        adversarial_training_optimizer = tf.train.AdamOptimizer()\n",
    "        adversarial_training_operation = adversarial_training_optimizer.minimize(\n",
    "            self.adversarial_loss)\n",
    "        \n",
    "        reconstruction_training_optimizer = tf.train.AdamOptimizer()\n",
    "        reconstruction_training_operation = reconstruction_training_optimizer.minimize(\n",
    "            self.reconstruction_loss)\n",
    "        \n",
    "        sess.run(tf.global_variables_initializer())\n",
    "        sess.run(\n",
    "            fetches=self.embedding_init, \n",
    "            feed_dict={self.embedding_placeholder: pretrained_embedding_matrix})\n",
    "\n",
    "        epoch_reporting_interval = 1\n",
    "        self.training_examples_size = DATA_SIZE\n",
    "        training_epochs = 5\n",
    "        num_batches = self.training_examples_size // self.batch_size\n",
    "        print(\"Training - texts shape: {}; labels shape {}\"\n",
    "              .format(padded_sequences[:self.training_examples_size].shape, \n",
    "                      one_hot_labels[:self.training_examples_size].shape))\n",
    "\n",
    "        training_step = 1\n",
    "        for current_epoch in range(1, training_epochs + 1):\n",
    "            for batch_number in range(num_batches):\n",
    "                _, adv_loss, adv_loss_sum, _, rec_loss, rec_loss_sum = sess.run(\n",
    "                    fetches=[adversarial_training_operation, \n",
    "                             self.adversarial_loss, \n",
    "                             self.adversarial_loss_summary, \n",
    "                             reconstruction_training_operation,\n",
    "                             self.reconstruction_loss,\n",
    "                             self.reconstruction_loss_summary], \n",
    "                    feed_dict={\n",
    "                        self.input_sequence: padded_sequences[\n",
    "                            batch_number * self.batch_size : \\\n",
    "                            (batch_number + 1) * self.batch_size],\n",
    "                        self.input_label: one_hot_labels[\n",
    "                            batch_number * self.batch_size : \\\n",
    "                            (batch_number + 1) * self.batch_size]\n",
    "                    })\n",
    "                writer.add_summary(adv_loss_sum, training_step)\n",
    "                writer.add_summary(rec_loss_sum, training_step)\n",
    "                writer.flush()\n",
    "                training_step += 1\n",
    "\n",
    "            if (current_epoch % epoch_reporting_interval == 0):\n",
    "                print(\"Training epoch: {}; Adversarial Loss: {}; Reconstruction Loss: {}\"\n",
    "                      .format(current_epoch, adv_loss, rec_loss))\n",
    "        \n",
    "        writer.close()\n",
    "\n",
    "    def infer(self, sess):\n",
    "        \n",
    "        generated_sequences = list()\n",
    "        \n",
    "        samples_size = 1000\n",
    "        num_batches = samples_size // self.batch_size\n",
    "        \n",
    "        for batch_number in range(num_batches):\n",
    "            generated_sequences_batch = sess.run(\n",
    "                fetches=self.generated_logits, \n",
    "                feed_dict={\n",
    "                    self.input_sequence: padded_sequences[\n",
    "                        batch_number * self.batch_size : \\\n",
    "                        (batch_number + 1) * self.batch_size],\n",
    "                    self.input_label: one_hot_labels[\n",
    "                        batch_number * self.batch_size : \\\n",
    "                        (batch_number + 1) * self.batch_size]\n",
    "                })\n",
    "            generated_sequences.extend(generated_sequences_batch)\n",
    "\n",
    "        return generated_sequences"
   ]
  },
  {
   "cell_type": "markdown",
   "metadata": {},
   "source": [
    "### Train Network"
   ]
  },
  {
   "cell_type": "code",
   "execution_count": null,
   "metadata": {
    "collapsed": true
   },
   "outputs": [],
   "source": [
    "tf.reset_default_graph()"
   ]
  },
  {
   "cell_type": "code",
   "execution_count": null,
   "metadata": {},
   "outputs": [],
   "source": [
    "gan = GenerativeAdversarialNetwork()\n",
    "gan.build_model()"
   ]
  },
  {
   "cell_type": "code",
   "execution_count": null,
   "metadata": {},
   "outputs": [],
   "source": [
    "sess = tf.Session()"
   ]
  },
  {
   "cell_type": "code",
   "execution_count": null,
   "metadata": {
    "collapsed": true
   },
   "outputs": [],
   "source": [
    "gan.train(sess)\n",
    "browser_notify(\"Training complete\")"
   ]
  },
  {
   "cell_type": "code",
   "execution_count": null,
   "metadata": {
    "collapsed": true
   },
   "outputs": [],
   "source": [
    "generated_sequences = gan.infer(sess)\n",
    "browser_notify(\"Inference complete\")"
   ]
  },
  {
   "cell_type": "code",
   "execution_count": null,
   "metadata": {
    "collapsed": true
   },
   "outputs": [],
   "source": [
    "index_word_inverse_map = {v: k for k, v in text_tokenizer.word_index.items()}\n",
    "\n",
    "def generate_word(word_embedding):\n",
    "    return np.argmax(word_embedding)\n",
    "\n",
    "def generate_sentence(floating_index_sequence):\n",
    "    word_indices = map(generate_word, floating_index_sequence)\n",
    "    word_indices = filter(lambda x: x > 0, word_indices)\n",
    "    # print(word_indices)\n",
    "    \n",
    "    words = map(lambda x: index_word_inverse_map[x], word_indices)\n",
    "    # print(sentence)\n",
    "    \n",
    "    return words"
   ]
  },
  {
   "cell_type": "code",
   "execution_count": null,
   "metadata": {},
   "outputs": [],
   "source": [
    "word_lists = map(generate_sentence, generated_sequences)\n",
    "print(list(map(lambda x: \" \".join(x), word_lists)))"
   ]
  },
  {
   "cell_type": "code",
   "execution_count": null,
   "metadata": {},
   "outputs": [],
   "source": [
    "browser_notify(\"Sampling complete\")"
   ]
  },
  {
   "cell_type": "code",
   "execution_count": null,
   "metadata": {
    "collapsed": true
   },
   "outputs": [],
   "source": []
  }
 ],
 "metadata": {
  "kernelspec": {
   "display_name": ".pyenv",
   "language": "python",
   "name": ".pyenv"
  },
  "language_info": {
   "codemirror_mode": {
    "name": "ipython",
    "version": 3
   },
   "file_extension": ".py",
   "mimetype": "text/x-python",
   "name": "python",
   "nbconvert_exporter": "python",
   "pygments_lexer": "ipython3",
   "version": "3.6.4"
  }
 },
 "nbformat": 4,
 "nbformat_minor": 2
}
