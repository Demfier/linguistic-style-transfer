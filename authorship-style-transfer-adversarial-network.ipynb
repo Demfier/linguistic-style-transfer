{
 "cells": [
  {
   "cell_type": "markdown",
   "metadata": {},
   "source": [
    "# Authorship Style Transfer"
   ]
  },
  {
   "cell_type": "code",
   "execution_count": null,
   "metadata": {
    "collapsed": true
   },
   "outputs": [],
   "source": [
    "import os\n",
    "os.environ[\"CUDA_DEVICE_ORDER\"]=\"PCI_BUS_ID\"\n",
    "os.environ[\"CUDA_VISIBLE_DEVICES\"]=\"0\""
   ]
  },
  {
   "cell_type": "code",
   "execution_count": null,
   "metadata": {
    "collapsed": true
   },
   "outputs": [],
   "source": [
    "# !/usr/local/cuda-8.0/extras/demo_suite/deviceQuery\n",
    "# !nvidia-smi"
   ]
  },
  {
   "cell_type": "code",
   "execution_count": null,
   "metadata": {
    "collapsed": true,
    "scrolled": true
   },
   "outputs": [],
   "source": [
    "import numpy as np\n",
    "import tensorflow as tf\n",
    "import gensim\n",
    "\n",
    "from datetime import datetime as dt\n",
    "from tensorflow.python.client import device_lib"
   ]
  },
  {
   "cell_type": "code",
   "execution_count": null,
   "metadata": {},
   "outputs": [],
   "source": [
    "def get_available_gpus():\n",
    "    \"\"\" Get available GPU devices info. \"\"\"\n",
    "    local_device_protos = device_lib.list_local_devices()\n",
    "    return [x.name for x in local_device_protos if x.device_type == 'GPU']\n",
    "\n",
    "print(get_available_gpus())"
   ]
  },
  {
   "cell_type": "markdown",
   "metadata": {},
   "source": [
    "---"
   ]
  },
  {
   "cell_type": "markdown",
   "metadata": {},
   "source": [
    "## Data Preprocessing"
   ]
  },
  {
   "cell_type": "code",
   "execution_count": null,
   "metadata": {
    "collapsed": true,
    "scrolled": true
   },
   "outputs": [],
   "source": [
    "text_file_path = \"data/c50-articles-dev.txt\"\n",
    "label_file_path = \"data/c50-labels-dev.txt\""
   ]
  },
  {
   "cell_type": "markdown",
   "metadata": {},
   "source": [
    "### Conversion of texts into integer sequences"
   ]
  },
  {
   "cell_type": "code",
   "execution_count": null,
   "metadata": {
    "collapsed": true,
    "scrolled": true
   },
   "outputs": [],
   "source": [
    "VOCAB_SIZE = 1000\n",
    "EMBEDDING_SIZE = 300"
   ]
  },
  {
   "cell_type": "code",
   "execution_count": null,
   "metadata": {
    "scrolled": true
   },
   "outputs": [],
   "source": [
    "text_tokenizer = tf.keras.preprocessing.text.Tokenizer(\n",
    "    num_words=VOCAB_SIZE, filters='!\"#$%&()*+,-./:;=?@[\\\\]^_`{|}~\\t\\n')\n",
    "\n",
    "with open(text_file_path) as text_file:\n",
    "    text_tokenizer.fit_on_texts(text_file)\n",
    "    \n",
    "with open(text_file_path) as text_file:\n",
    "    integer_text_sequences = text_tokenizer.texts_to_sequences(text_file)\n",
    "\n",
    "text_sequence_lengths = np.asarray(\n",
    "    a=list(map(lambda x: len(x), integer_text_sequences)), dtype=np.int32)\n",
    "\n",
    "MAX_SEQUENCE_LENGTH = np.amax(text_sequence_lengths)\n",
    "\n",
    "padded_sequences = tf.keras.preprocessing.sequence.pad_sequences(\n",
    "     integer_text_sequences, maxlen=MAX_SEQUENCE_LENGTH, padding='post', truncating='post')\n",
    "\n",
    "print(\"text_sequence_lengths: {}\".format(text_sequence_lengths.shape))\n",
    "print(\"padded_sequences.shape: {}\".format(padded_sequences.shape))"
   ]
  },
  {
   "cell_type": "code",
   "execution_count": null,
   "metadata": {
    "scrolled": true
   },
   "outputs": [],
   "source": [
    "print(\"MAX_SEQUENCE_LENGTH: {}\".format(MAX_SEQUENCE_LENGTH))"
   ]
  },
  {
   "cell_type": "code",
   "execution_count": null,
   "metadata": {
    "collapsed": true,
    "scrolled": true
   },
   "outputs": [],
   "source": [
    "SOS_INDEX = text_tokenizer.word_index['<sos>']\n",
    "EOS_INDEX = text_tokenizer.word_index['<eos>']\n",
    "DATA_SIZE = padded_sequences.shape[0]"
   ]
  },
  {
   "cell_type": "code",
   "execution_count": null,
   "metadata": {
    "scrolled": true
   },
   "outputs": [],
   "source": [
    "# text_tokenizer.word_index"
   ]
  },
  {
   "cell_type": "markdown",
   "metadata": {},
   "source": [
    "### Conversion of labels to one-hot represenations"
   ]
  },
  {
   "cell_type": "code",
   "execution_count": null,
   "metadata": {
    "scrolled": true
   },
   "outputs": [],
   "source": [
    "label_tokenizer =  tf.keras.preprocessing.text.Tokenizer(lower=False)\n",
    "\n",
    "with open(label_file_path) as label_file:\n",
    "    label_tokenizer.fit_on_texts(label_file)\n",
    "\n",
    "with open(label_file_path) as label_file:\n",
    "    label_sequences = label_tokenizer.texts_to_sequences(label_file)\n",
    "\n",
    "NUM_LABELS = len(label_tokenizer.word_index)\n",
    "one_hot_labels = np.asarray(list(\n",
    "    map(lambda x: np.eye(NUM_LABELS, k=x[0])[0], label_sequences)))\n",
    "\n",
    "print(\"one_hot_labels.shape: {}\".format(one_hot_labels.shape))"
   ]
  },
  {
   "cell_type": "markdown",
   "metadata": {},
   "source": [
    "### Initializing Pre-trained Embeddings"
   ]
  },
  {
   "cell_type": "code",
   "execution_count": null,
   "metadata": {
    "collapsed": true,
    "scrolled": true
   },
   "outputs": [],
   "source": [
    "word_vector_path = \"word-embeddings/\""
   ]
  },
  {
   "cell_type": "code",
   "execution_count": null,
   "metadata": {
    "scrolled": true
   },
   "outputs": [],
   "source": [
    "# # Google news pretrained vectors\n",
    "# wv_model_path = word_vector_path + \"GoogleNews-vectors-negative300.bin.gz\"\n",
    "# wv_model_1 = gensim.models.KeyedVectors.load_word2vec_format(\n",
    "#     wv_model_path, binary=True, unicode_errors='ignore')\n"
   ]
  },
  {
   "cell_type": "code",
   "execution_count": null,
   "metadata": {
    "collapsed": true,
    "scrolled": true
   },
   "outputs": [],
   "source": [
    "def get_word2vec_embedding(word, model, dimensions):\n",
    "\n",
    "    vec_rep = np.zeros(dimensions)\n",
    "    if word in model:\n",
    "        vec_rep = model[word]\n",
    "    \n",
    "    return vec_rep"
   ]
  },
  {
   "cell_type": "code",
   "execution_count": null,
   "metadata": {
    "scrolled": true
   },
   "outputs": [],
   "source": [
    "encoder_embedding_matrix = np.random.rand(VOCAB_SIZE + 1, EMBEDDING_SIZE).astype('float32')\n",
    "decoder_embedding_matrix = np.random.rand(VOCAB_SIZE + 1, EMBEDDING_SIZE).astype('float32')"
   ]
  },
  {
   "cell_type": "code",
   "execution_count": null,
   "metadata": {
    "collapsed": true,
    "scrolled": true
   },
   "outputs": [],
   "source": [
    "# i = 0\n",
    "# for key in text_tokenizer.word_index:\n",
    "#     encoder_embedding_matrix[i] = get_word2vec_embedding(key, wv_model_1, 300)\n",
    "#     decoder_embedding_matrix[i] = get_word2vec_embedding(key, wv_model_1, 300)\n",
    "#     i += 1\n",
    "#     if i >= VOCAB_SIZE:\n",
    "#         break    "
   ]
  },
  {
   "cell_type": "code",
   "execution_count": null,
   "metadata": {
    "scrolled": true
   },
   "outputs": [],
   "source": [
    "print(encoder_embedding_matrix.dtype, decoder_embedding_matrix.dtype)\n",
    "print(encoder_embedding_matrix.shape, decoder_embedding_matrix.shape)"
   ]
  },
  {
   "cell_type": "markdown",
   "metadata": {},
   "source": [
    "---"
   ]
  },
  {
   "cell_type": "markdown",
   "metadata": {},
   "source": [
    "## Deep Learning Model"
   ]
  },
  {
   "cell_type": "markdown",
   "metadata": {},
   "source": [
    "### Setup Instructions"
   ]
  },
  {
   "cell_type": "code",
   "execution_count": null,
   "metadata": {
    "scrolled": true
   },
   "outputs": [],
   "source": [
    "class GenerativeAdversarialNetwork():\n",
    "\n",
    "    def __init__(self):\n",
    "        self.style_embedding_size = 128\n",
    "        self.content_embedding_size = 128\n",
    "        self.start_token = tf.constant(SOS_INDEX)\n",
    "        self.end_token = tf.constant(EOS_INDEX)\n",
    "    \n",
    "    def get_sentence_representation(self, embedded_sequence):\n",
    "\n",
    "        lstm_cell_fw = tf.contrib.rnn.DropoutWrapper(\n",
    "            cell=tf.contrib.rnn.LSTMCell(num_units=128),\n",
    "            input_keep_prob=0.75,\n",
    "            output_keep_prob=0.75,\n",
    "            state_keep_prob=0.75\n",
    "        )\n",
    "\n",
    "        lstm_cell_bw = tf.contrib.rnn.DropoutWrapper(\n",
    "            cell=tf.contrib.rnn.LSTMCell(num_units=128),\n",
    "            input_keep_prob=0.75,\n",
    "            output_keep_prob=0.75,\n",
    "            state_keep_prob=0.75\n",
    "        )\n",
    "\n",
    "        _, rnn_states = tf.nn.bidirectional_dynamic_rnn(\n",
    "            cell_fw=lstm_cell_fw, cell_bw=lstm_cell_bw, \n",
    "            inputs=embedded_sequence, \n",
    "            sequence_length=self.sequence_lengths,\n",
    "            dtype=tf.float32, time_major=False)\n",
    "\n",
    "        sentence_representation_dense = tf.concat(\n",
    "            values=[rnn_states[0].h, rnn_states[1].h], axis=1)\n",
    "\n",
    "        sentence_representation = tf.nn.dropout(\n",
    "            x=sentence_representation_dense, keep_prob=0.75, \n",
    "            name=\"sentence_representation\")\n",
    "\n",
    "        return sentence_representation\n",
    "\n",
    "    def get_content_representation(self, sentence_representation):\n",
    "        \n",
    "        content_representation_dense = tf.layers.dense(\n",
    "            inputs=sentence_representation, units=self.content_embedding_size, \n",
    "            activation=tf.nn.relu)\n",
    "        \n",
    "        content_representation = tf.nn.dropout(\n",
    "            x=content_representation_dense, keep_prob=0.75, \n",
    "            name=\"content_representation\")\n",
    "\n",
    "        return content_representation\n",
    "\n",
    "    def get_style_representation(self, sentence_representation):\n",
    "        \n",
    "        style_representation_dense = tf.layers.dense(\n",
    "            inputs=sentence_representation, units=self.style_embedding_size, \n",
    "            activation=tf.nn.relu)\n",
    "        \n",
    "        style_representation = tf.nn.dropout(\n",
    "            x=style_representation_dense, keep_prob=0.75, \n",
    "            name=\"style_representation\")\n",
    "            \n",
    "        return style_representation\n",
    "\n",
    "    def get_label_prediction(self, content_representation):\n",
    "\n",
    "        dense_1 = tf.layers.dense(\n",
    "            inputs=content_representation, units=NUM_LABELS, \n",
    "            activation=tf.nn.relu)\n",
    "        \n",
    "        softmax_output = tf.nn.softmax(dense_1, name=\"label_prediction\")\n",
    "\n",
    "        return softmax_output\n",
    "    \n",
    "    \n",
    "    def generate_output_sequence(self, embedded_sequence, style_representation, \n",
    "                                 content_representation, decoder_embeddings):\n",
    "        \n",
    "        generative_embedding_dense = tf.concat(\n",
    "            values=[style_representation, content_representation], axis=1)\n",
    "        generative_embedding = tf.nn.dropout(\n",
    "            x=generative_embedding_dense, keep_prob=0.75,\n",
    "            name=\"generative_embedding\")\n",
    "        print(\"generative_embedding: {}\".format(generative_embedding))\n",
    "        \n",
    "        decoder_cell = tf.contrib.rnn.DropoutWrapper(\n",
    "            cell=tf.nn.rnn_cell.LSTMCell(\n",
    "                num_units=128, state_is_tuple=False),\n",
    "            input_keep_prob=0.75,\n",
    "            output_keep_prob=0.75,\n",
    "            state_keep_prob=0.75\n",
    "        )\n",
    "        \n",
    "        batch_sequence_lengths = tf.scalar_mul(\n",
    "            scalar=MAX_SEQUENCE_LENGTH, \n",
    "            x=tf.ones([self.batch_size], dtype=tf.int32))\n",
    "#         print(\"batch_sequence_lengths: {}\".format(batch_sequence_lengths))\n",
    "        \n",
    "        sos_tokens = tf.scalar_mul(\n",
    "            scalar=self.start_token, \n",
    "            x=tf.ones([self.batch_size], dtype=tf.int32))\n",
    "#         print(\"sos_tokens: {}\".format(sos_tokens))\n",
    "        \n",
    "        def get_training_decoder_output():\n",
    "            training_helper = tf.contrib.seq2seq.TrainingHelper(\n",
    "                inputs=embedded_sequence, \n",
    "                sequence_length=batch_sequence_lengths)\n",
    "            \n",
    "            training_decoder = tf.contrib.seq2seq.BasicDecoder(\n",
    "                cell=decoder_cell, helper=training_helper, \n",
    "                initial_state=generative_embedding,\n",
    "                output_layer=tf.layers.Dense(\n",
    "                    units=VOCAB_SIZE, activation=tf.nn.relu))\n",
    "\n",
    "            # Dynamic decoding\n",
    "            training_decoder_output, _, _ = tf.contrib.seq2seq.dynamic_decode(\n",
    "                decoder=training_decoder, impute_finished=True,\n",
    "                maximum_iterations=MAX_SEQUENCE_LENGTH)\n",
    "            \n",
    "            return training_decoder_output\n",
    "\n",
    "        def get_inference_decoder_output():  \n",
    "            greedy_embedding_helper = tf.contrib.seq2seq.GreedyEmbeddingHelper(\n",
    "                embedding=decoder_embeddings, \n",
    "                start_tokens=sos_tokens, \n",
    "                end_token=self.end_token)\n",
    "\n",
    "            inference_decoder = tf.contrib.seq2seq.BasicDecoder(\n",
    "                cell=decoder_cell, helper=greedy_embedding_helper, \n",
    "                initial_state=generative_embedding,\n",
    "                output_layer=tf.layers.Dense(\n",
    "                    units=VOCAB_SIZE, activation=tf.nn.relu))\n",
    "\n",
    "            # Dynamic decoding\n",
    "            inference_decoder_output, _, _ = tf.contrib.seq2seq.dynamic_decode(\n",
    "                decoder=inference_decoder, impute_finished=True, \n",
    "                maximum_iterations=MAX_SEQUENCE_LENGTH)\n",
    "\n",
    "            return inference_decoder_output\n",
    "        \n",
    "        final_decoder_output = tf.cond(\n",
    "            pred=self.training_phase, \n",
    "            true_fn=get_training_decoder_output, \n",
    "            false_fn=get_inference_decoder_output,\n",
    "            name=\"training_inference_conditional\")\n",
    "\n",
    "        sequence_prediction = tf.nn.softmax(\n",
    "            logits=final_decoder_output.rnn_output,\n",
    "            name=\"sequence_prediction\")\n",
    "\n",
    "        return sequence_prediction\n",
    "\n",
    "\n",
    "    def build_model(self):\n",
    "        \n",
    "        with tf.name_scope(\"input_placeholders\"):\n",
    "            self.input_sequence = tf.placeholder(\n",
    "                dtype=tf.int32, shape=[None, MAX_SEQUENCE_LENGTH], \n",
    "                name=\"input_sequence\")\n",
    "            print(\"input_sequence: {}\".format(self.input_sequence))\n",
    "\n",
    "            self.input_label = tf.placeholder(\n",
    "                dtype=tf.float32, shape=[None, NUM_LABELS], \n",
    "                name=\"input_label\")\n",
    "            print(\"input_label: {}\".format(self.input_label))\n",
    "\n",
    "            self.sequence_lengths = tf.placeholder(\n",
    "                dtype=tf.int32, shape=[None], \n",
    "                name=\"sequence_lengths\")\n",
    "            print(\"sequence_lengths: {}\".format(self.sequence_lengths))\n",
    "\n",
    "            self.training_phase = tf.placeholder(\n",
    "                dtype=tf.bool, name=\"training_phase\")\n",
    "            print(\"training_phase: {}\".format(self.training_phase))\n",
    "        \n",
    "        self.batch_size = tf.shape(self.input_sequence)[0]\n",
    "\n",
    "        # word embeddings matrix\n",
    "        with tf.name_scope(\"encoder_variables\"):\n",
    "            encoder_embeddings = tf.get_variable(\n",
    "                initializer=encoder_embedding_matrix, dtype=tf.float32, \n",
    "                name=\"encoder_embeddings\")\n",
    "            print(\"encoder_embeddings: {}\".format(encoder_embeddings))\n",
    "        \n",
    "            embedded_sequence = tf.nn.embedding_lookup(\n",
    "                params=encoder_embeddings, ids=self.input_sequence, \n",
    "                name=\"embedded_sequence\")\n",
    "            print(\"embedded_sequence: {}\".format(embedded_sequence))\n",
    "\n",
    "            # get sentence representation\n",
    "            sentence_representation = self.get_sentence_representation(\n",
    "                embedded_sequence)\n",
    "            print(\"sentence_representation: {}\".format(sentence_representation))\n",
    "\n",
    "            # get content representation\n",
    "            content_representation = self.get_content_representation(\n",
    "                sentence_representation)\n",
    "            print(\"content_representation: {}\".format(content_representation))\n",
    "\n",
    "            # get style representation\n",
    "            style_representation = self.get_style_representation(\n",
    "                sentence_representation)\n",
    "            print(\"style_representation: {}\".format(style_representation))\n",
    "\n",
    "        # use content representation to predict a label\n",
    "        with tf.name_scope(\"adversarial_discriminator_variables\"):\n",
    "            self.label_prediction = self.get_label_prediction(\n",
    "                content_representation)\n",
    "            print(\"label_prediction: {}\".format(self.label_prediction))\n",
    "\n",
    "            self.adversarial_loss = tf.losses.softmax_cross_entropy(\n",
    "                onehot_labels=self.input_label, logits=self.label_prediction)\n",
    "            print(\"adversarial_loss: {}\".format(self.adversarial_loss))\n",
    "        \n",
    "        # generate new sentence\n",
    "        with tf.name_scope(\"decoder_variables\"):\n",
    "            decoder_embeddings = tf.get_variable(\n",
    "                initializer=decoder_embedding_matrix, dtype=tf.float32, \n",
    "                name=\"decoder_embeddings\")\n",
    "            print(\"decoder_embeddings: {}\".format(decoder_embeddings))\n",
    "\n",
    "            self.generated_logits = self.generate_output_sequence(\n",
    "                embedded_sequence, style_representation, content_representation,\n",
    "                decoder_embeddings)\n",
    "            print(\"generated_logits: {}\".format(self.generated_logits))\n",
    "\n",
    "            output_sequence_mask = tf.sequence_mask(\n",
    "                lengths=self.sequence_lengths, maxlen=MAX_SEQUENCE_LENGTH, \n",
    "                dtype=tf.float32)\n",
    "            print(\"output_sequence_mask: {}\".format(output_sequence_mask))\n",
    "\n",
    "            self.reconstruction_loss = tf.contrib.seq2seq.sequence_loss(\n",
    "                logits=self.generated_logits, targets=self.input_sequence, \n",
    "                weights=output_sequence_mask)\n",
    "            print(\"reconstruction_loss: {}\".format(self.reconstruction_loss))\n",
    "        \n",
    "        # loss summaries for tensorboard logging\n",
    "        self.adversarial_loss_summary = tf.summary.scalar(\n",
    "            tensor=self.adversarial_loss, name=\"adversarial_loss\")\n",
    "\n",
    "        self.reconstruction_loss_summary = tf.summary.scalar(\n",
    "            tensor=self.reconstruction_loss, name=\"reconstruction_loss\")\n",
    "        \n",
    "    def get_batch_indices(self, batch_size, batch_number, data_limit):\n",
    "        \n",
    "        start_index = batch_number * batch_size\n",
    "        end_index = (batch_number + 1) * batch_size\n",
    "\n",
    "        end_index = data_limit if end_index > data_limit else end_index\n",
    "\n",
    "        return (start_index, end_index)\n",
    "\n",
    "\n",
    "    def run_batch(self, start_index, end_index, training_phase, fetches):\n",
    "        \n",
    "        ops = sess.run(\n",
    "            fetches=fetches, \n",
    "            feed_dict={\n",
    "                self.input_sequence: padded_sequences[\n",
    "                    start_index : end_index],\n",
    "                self.input_label: one_hot_labels[\n",
    "                    start_index : end_index],\n",
    "                self.sequence_lengths: text_sequence_lengths[\n",
    "                    start_index : end_index],\n",
    "                self.training_phase: training_phase\n",
    "            })\n",
    "        \n",
    "        return ops\n",
    "        \n",
    "    def train(self, sess):\n",
    "\n",
    "        writer = tf.summary.FileWriter(\n",
    "            logdir=\"/tmp/tensorflow_logs/\" + dt.now().strftime(\"%Y%m%d-%H%M%S\") + \"/\", \n",
    "            graph=sess.graph)\n",
    "        \n",
    "        adversarial_training_optimizer = tf.train.AdamOptimizer()\n",
    "        adversarial_training_operation = adversarial_training_optimizer.minimize(\n",
    "            self.adversarial_loss)\n",
    "        \n",
    "        reconstruction_training_optimizer = tf.train.AdamOptimizer()\n",
    "        reconstruction_training_operation = reconstruction_training_optimizer.minimize(\n",
    "            self.reconstruction_loss - self.adversarial_loss)\n",
    "        \n",
    "        sess.run(tf.global_variables_initializer())\n",
    "\n",
    "        epoch_reporting_interval = 1\n",
    "        self.training_examples_size = DATA_SIZE\n",
    "        training_epochs = 3\n",
    "        batch_size = 100\n",
    "        num_batches = self.training_examples_size // batch_size\n",
    "        print(\"Training - texts shape: {}; labels shape {}\"\n",
    "              .format(padded_sequences[:self.training_examples_size].shape, \n",
    "                      one_hot_labels[:self.training_examples_size].shape))\n",
    "\n",
    "        for current_epoch in range(1, training_epochs + 1):\n",
    "            for batch_number in range(num_batches + 1):\n",
    "                \n",
    "                (start_index, end_index) = self.get_batch_indices(\n",
    "                    batch_size=batch_size, batch_number=batch_number, \n",
    "                    data_limit=DATA_SIZE)\n",
    "                \n",
    "                if start_index == end_index:\n",
    "                    break\n",
    "                \n",
    "                fetches = [adversarial_training_operation, \n",
    "                           self.adversarial_loss, \n",
    "                           self.adversarial_loss_summary, \n",
    "                           reconstruction_training_operation, \n",
    "                           self.reconstruction_loss, \n",
    "                           self.reconstruction_loss_summary]\n",
    "                \n",
    "                _, adv_loss, adv_loss_sum, _, rec_loss, rec_loss_sum = self.run_batch(\n",
    "                    start_index=start_index, end_index=end_index, training_phase=True, \n",
    "                    fetches=fetches)\n",
    "                    \n",
    "            writer.add_summary(adv_loss_sum, current_epoch)\n",
    "            writer.add_summary(rec_loss_sum, current_epoch)\n",
    "            writer.flush()\n",
    "\n",
    "            if (current_epoch % epoch_reporting_interval == 0):\n",
    "                print(\"Training epoch: {}; Reconstruction loss: {}; Adversarial loss {}\"\\\n",
    "                      .format(current_epoch, rec_loss, adv_loss))\n",
    "        \n",
    "        writer.close()\n",
    "\n",
    "    def infer(self, sess):\n",
    "        \n",
    "        generated_sequences = list()\n",
    "        \n",
    "        samples_size = 100\n",
    "        batch_size = 100\n",
    "        num_batches = samples_size // batch_size\n",
    "        \n",
    "        for batch_number in range(num_batches + 1):\n",
    "\n",
    "            (start_index, end_index) = self.get_batch_indices(\n",
    "                batch_size=batch_size, batch_number=batch_number, \n",
    "                data_limit=samples_size)\n",
    "\n",
    "            if start_index == end_index:\n",
    "                break\n",
    "            \n",
    "            generated_sequences_batch = self.run_batch(\n",
    "                start_index=start_index, end_index=end_index,\n",
    "                training_phase=False, fetches=self.generated_logits)\n",
    "            \n",
    "            generated_sequences.extend(generated_sequences_batch)\n",
    "\n",
    "        return generated_sequences"
   ]
  },
  {
   "cell_type": "markdown",
   "metadata": {},
   "source": [
    "### Train Network"
   ]
  },
  {
   "cell_type": "code",
   "execution_count": null,
   "metadata": {
    "collapsed": true,
    "scrolled": true
   },
   "outputs": [],
   "source": [
    "tf.reset_default_graph()"
   ]
  },
  {
   "cell_type": "code",
   "execution_count": null,
   "metadata": {
    "scrolled": true
   },
   "outputs": [],
   "source": [
    "gan = GenerativeAdversarialNetwork()\n",
    "gan.build_model()"
   ]
  },
  {
   "cell_type": "code",
   "execution_count": null,
   "metadata": {
    "collapsed": true,
    "scrolled": true
   },
   "outputs": [],
   "source": [
    "config_proto = tf.ConfigProto()\n",
    "config_proto.gpu_options.allow_growth=True  \n",
    "sess = tf.Session(config=config_proto)"
   ]
  },
  {
   "cell_type": "code",
   "execution_count": null,
   "metadata": {
    "scrolled": true
   },
   "outputs": [],
   "source": [
    "gan.train(sess)"
   ]
  },
  {
   "cell_type": "code",
   "execution_count": null,
   "metadata": {
    "scrolled": true
   },
   "outputs": [],
   "source": [
    "generated_sequences = gan.infer(sess)"
   ]
  },
  {
   "cell_type": "code",
   "execution_count": null,
   "metadata": {
    "collapsed": true,
    "scrolled": true
   },
   "outputs": [],
   "source": [
    "index_word_inverse_map = {v: k for k, v in text_tokenizer.word_index.items()}\n",
    "\n",
    "def generate_word(word_embedding):\n",
    "    return np.argmax(word_embedding)\n",
    "\n",
    "def generate_sentence(floating_index_sequence):\n",
    "    word_indices = map(generate_word, floating_index_sequence)\n",
    "    word_indices = list(filter(lambda x: x > 0, word_indices))\n",
    "#     print(word_indices)\n",
    "    \n",
    "    words = list(map(lambda x: index_word_inverse_map[x], word_indices))\n",
    "#     print(words)\n",
    "    \n",
    "    return words"
   ]
  },
  {
   "cell_type": "code",
   "execution_count": null,
   "metadata": {
    "scrolled": true
   },
   "outputs": [],
   "source": [
    "word_lists = list(map(generate_sentence, generated_sequences))\n",
    "\n",
    "for word_list in word_lists:\n",
    "    print(len(list(word_list)))\n",
    "    print(\" \".join(word_list))\n",
    "# print(list(map(lambda x: len(list(x)), word_lists)))\n",
    "# print(list(map(lambda x: \" \".join(x), word_lists)))"
   ]
  },
  {
   "cell_type": "code",
   "execution_count": null,
   "metadata": {
    "collapsed": true
   },
   "outputs": [],
   "source": [
    "# output_file_path = \"output/generated_sentences_{}.txt\".format(dt.now().strftime(\"%Y%m%d-%H%M%S\"))\n",
    "# with open(output_file_path, 'w') as output_file:\n",
    "#     for disjoint_sentence in word_lists:\n",
    "#         output_file.write(\" \".join(disjoint_sentence) + \"\\n\")"
   ]
  },
  {
   "cell_type": "code",
   "execution_count": null,
   "metadata": {
    "collapsed": true
   },
   "outputs": [],
   "source": []
  }
 ],
 "metadata": {
  "kernelspec": {
   "display_name": ".pyenv",
   "language": "python",
   "name": ".pyenv"
  },
  "language_info": {
   "codemirror_mode": {
    "name": "ipython",
    "version": 3
   },
   "file_extension": ".py",
   "mimetype": "text/x-python",
   "name": "python",
   "nbconvert_exporter": "python",
   "pygments_lexer": "ipython3",
   "version": "3.6.4"
  }
 },
 "nbformat": 4,
 "nbformat_minor": 2
}
