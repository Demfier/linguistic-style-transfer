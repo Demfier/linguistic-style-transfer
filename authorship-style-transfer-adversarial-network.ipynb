{
 "cells": [
  {
   "cell_type": "code",
   "execution_count": 1,
   "metadata": {
    "collapsed": true
   },
   "outputs": [],
   "source": [
    "import numpy as np\n",
    "import tensorflow as tf\n",
    "import sklearn.preprocessing as skp"
   ]
  },
  {
   "cell_type": "code",
   "execution_count": 2,
   "metadata": {
    "collapsed": true
   },
   "outputs": [],
   "source": [
    "text_file_path = \"data/c50-articles.txt\"\n",
    "label_file_path = \"data/c50-labels.txt\""
   ]
  },
  {
   "cell_type": "code",
   "execution_count": 3,
   "metadata": {},
   "outputs": [
    {
     "data": {
      "text/plain": [
       "2500"
      ]
     },
     "execution_count": 3,
     "metadata": {},
     "output_type": "execute_result"
    }
   ],
   "source": [
    "text_tokenizer =  tf.keras.preprocessing.text.Tokenizer(num_words=1000)\n",
    "\n",
    "with open(text_file_path) as text_file:\n",
    "    text_tokenizer.fit_on_texts(text_file)\n",
    "    \n",
    "with open(text_file_path) as text_file:\n",
    "    integer_text_sequences = text_tokenizer.texts_to_sequences(text_file)\n",
    "\n",
    "len(integer_text_sequences)"
   ]
  },
  {
   "cell_type": "code",
   "execution_count": 4,
   "metadata": {},
   "outputs": [
    {
     "data": {
      "text/plain": [
       "(2500, 50)"
      ]
     },
     "execution_count": 4,
     "metadata": {},
     "output_type": "execute_result"
    }
   ],
   "source": [
    "padded_sequences = tf.keras.preprocessing.sequence.pad_sequences(\n",
    "     integer_text_sequences, maxlen=50, padding='post', truncating='post')\n",
    "\n",
    "padded_sequences.shape"
   ]
  },
  {
   "cell_type": "code",
   "execution_count": 5,
   "metadata": {},
   "outputs": [],
   "source": [
    "label_tokenizer =  tf.keras.preprocessing.text.Tokenizer(lower=False)\n",
    "\n",
    "with open(label_file_path) as label_file:\n",
    "    label_tokenizer.fit_on_texts(label_file)\n",
    "\n",
    "with open(label_file_path) as label_file:\n",
    "    label_sequences = label_tokenizer.texts_to_sequences(label_file)"
   ]
  },
  {
   "cell_type": "code",
   "execution_count": 6,
   "metadata": {
    "collapsed": true
   },
   "outputs": [],
   "source": [
    "def convert_label_integer_sequence_to_onehot_rep(label_sequence):\n",
    "    return np.eye(len(label_tokenizer.word_index), k=label_sequence[0])[0]\n",
    "\n",
    "one_hot_labels = list(map(convert_label_integer_sequence_to_onehot_rep, label_sequences))"
   ]
  },
  {
   "cell_type": "code",
   "execution_count": null,
   "metadata": {},
   "outputs": [],
   "source": []
  }
 ],
 "metadata": {
  "kernelspec": {
   "display_name": ".pyenv",
   "language": "python",
   "name": ".pyenv"
  },
  "language_info": {
   "codemirror_mode": {
    "name": "ipython",
    "version": 3
   },
   "file_extension": ".py",
   "mimetype": "text/x-python",
   "name": "python",
   "nbconvert_exporter": "python",
   "pygments_lexer": "ipython3",
   "version": "3.6.4"
  }
 },
 "nbformat": 4,
 "nbformat_minor": 2
}
